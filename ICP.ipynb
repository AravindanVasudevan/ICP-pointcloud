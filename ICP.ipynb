{
 "cells": [
  {
   "cell_type": "code",
   "execution_count": 1,
   "metadata": {},
   "outputs": [
    {
     "name": "stdout",
     "output_type": "stream",
     "text": [
      "Jupyter environment detected. Enabling Open3D WebVisualizer.\n",
      "[Open3D INFO] WebRTC GUI backend enabled.\n",
      "[Open3D INFO] WebRTCWindowSystem: HTTP handshake server disabled.\n"
     ]
    }
   ],
   "source": [
    "import open3d as o3d\n",
    "import copy\n",
    "import numpy as np"
   ]
  },
  {
   "cell_type": "code",
   "execution_count": 2,
   "metadata": {},
   "outputs": [],
   "source": [
    "demo_icp_pcds = o3d.data.DemoICPPointClouds()\n",
    "source = o3d.io.read_point_cloud(demo_icp_pcds.paths[0])\n",
    "target = o3d.io.read_point_cloud(demo_icp_pcds.paths[1])\n",
    "\n",
    "# function to visualize the point clouds after the transformation has been applied\n",
    "def draw_registration_result(source, target, transformation):\n",
    "    \"\"\"\n",
    "    param: source - source point cloud\n",
    "    param: target - target point cloud\n",
    "    param: transformation - 4 X 4 homogeneous transformation matrix\n",
    "    \"\"\"\n",
    "    source_temp = copy.deepcopy(source)\n",
    "    target_temp = copy.deepcopy(target)\n",
    "    source_temp.paint_uniform_color([1, 0.706, 0])\n",
    "    target_temp.paint_uniform_color([0, 0.651, 0.929])\n",
    "    source_temp.transform(transformation)\n",
    "    o3d.visualization.draw_geometries([source_temp, target_temp],\n",
    "                                      zoom=0.4459,\n",
    "                                      front=[0.9288, -0.2951, -0.2242],\n",
    "                                      lookat=[1.6784, 2.0612, 1.4451],\n",
    "                                      up=[-0.3402, -0.9189, -0.1996])"
   ]
  },
  {
   "cell_type": "code",
   "execution_count": 3,
   "metadata": {},
   "outputs": [
    {
     "name": "stdout",
     "output_type": "stream",
     "text": [
      "[Open3D WARNING] GLFW Error: WGL: Failed to make context current: The requested transformation operation is not supported. \n",
      "[Open3D WARNING] GLFW Error: WGL: Failed to make context current: The requested transformation operation is not supported. \n",
      "[Open3D WARNING] GLFW Error: WGL: Failed to make context current: The handle is invalid. \n"
     ]
    }
   ],
   "source": [
    "o3d.visualization.draw_geometries([source, target],\n",
    "                                      zoom=0.4459,\n",
    "                                      front=[0.9288, -0.2951, -0.2242],\n",
    "                                      lookat=[1.6784, 2.0612, 1.4451],\n",
    "                                      up=[-0.3402, -0.9189, -0.1996])\n"
   ]
  },
  {
   "cell_type": "code",
   "execution_count": 4,
   "metadata": {},
   "outputs": [],
   "source": [
    "# ICP function which returns the transformation between the source and the desination point clouds\n",
    "def ICP(source, target):\n",
    "    source_temp = copy.deepcopy(source)\n",
    "    target_temp = copy.deepcopy(target)\n",
    "    target_te = copy.deepcopy(target)\n",
    "    target_te = np.asarray(target_te.points)\n",
    "    N = len(target_te)\n",
    "    H = np.eye(4)\n",
    "    prev_cost = 100000\n",
    "    curr_cost = 0\n",
    "    diff_cost = prev_cost - curr_cost\n",
    "    while (diff_cost > 0.01):\n",
    "        source_points = []\n",
    "        source_tree = o3d.geometry.KDTreeFlann(source_temp)\n",
    "        for i in range(N):\n",
    "            [k, idx, _] = source_tree.search_knn_vector_3d(target_temp.points[i], 1)\n",
    "            source_points.append(source_temp.points[idx[0]])\n",
    "\n",
    "        source_points = np.asarray(source_points)\n",
    "        target_points = np.asarray(target_temp.points)\n",
    "        n = len(source_points)\n",
    "    \n",
    "        demean_s = np.transpose(source_points) - (np.sum(source_points, axis = 0) / n).reshape(3, 1)\n",
    "        demean_d = np.transpose(target_points) - (np.sum(target_points, axis = 0) / n).reshape(3, 1)\n",
    "\n",
    "        U, _, Vt = np.linalg.svd(demean_d @ np.transpose(demean_s))\n",
    "        \n",
    "        R = U @ Vt\n",
    "        source_points = np.transpose(source_points)\n",
    "        target_points = np.transpose(target_points)\n",
    "        T = (np.sum(target_points, axis = 1) - (R @ np.sum(source_points, axis = 1))) / n\n",
    "\n",
    "        curr_cost = np.linalg.norm(demean_d - (R @ demean_s))\n",
    "        diff_cost = abs(prev_cost - curr_cost)\n",
    "        prev_cost = curr_cost\n",
    "        print(curr_cost)\n",
    "        H_now = np.empty((4, 4))\n",
    "        H_now[:3, :3] = R\n",
    "        H_now[:3, 3] = T\n",
    "        H_now[3, :] = [0, 0, 0, 1]\n",
    "\n",
    "        H = H_now @ H\n",
    "        source_temp.transform(H_now)\n",
    "    return H"
   ]
  },
  {
   "cell_type": "code",
   "execution_count": 5,
   "metadata": {},
   "outputs": [
    {
     "name": "stdout",
     "output_type": "stream",
     "text": [
      "63.0501322102132\n",
      "58.590566379614884\n",
      "56.65251136083426\n",
      "55.51010875335899\n",
      "54.65908094114768\n",
      "53.89855837115818\n",
      "53.19447689400112\n",
      "52.50915748178347\n",
      "51.82606798883577\n",
      "51.12062634491721\n",
      "50.370085260204945\n",
      "49.50942878500292\n",
      "48.47860750353497\n",
      "47.273821143265906\n",
      "45.88401262287705\n",
      "44.3759440872945\n",
      "42.90147406742706\n",
      "41.49759170783179\n",
      "40.148476479393224\n",
      "38.882078158185195\n",
      "37.74524930222672\n",
      "36.73239426250806\n",
      "35.83598419379687\n",
      "34.954367319852096\n",
      "34.01826316504208\n",
      "33.07076038449125\n",
      "32.229288487721256\n",
      "31.45913599057241\n",
      "30.609454099604335\n",
      "29.58857230630831\n",
      "28.31066146892175\n",
      "26.936212186540725\n",
      "25.650151274521722\n",
      "24.264383899413033\n",
      "22.541816928669622\n",
      "20.526734745304093\n",
      "18.443379859060386\n",
      "16.55300218207878\n",
      "14.773035491216714\n",
      "13.222654820459889\n",
      "11.927150997965493\n",
      "10.850004306410222\n",
      "10.005114701357405\n",
      "9.369466554362399\n",
      "8.86879855089762\n",
      "8.461146662937926\n",
      "8.153908233695544\n",
      "7.930939044652796\n",
      "7.7714168733035125\n",
      "7.663043826787193\n",
      "7.588046044977671\n",
      "7.533185276023297\n",
      "7.49615853165223\n",
      "7.472302427659125\n",
      "7.456968448791647\n",
      "7.447182672516665\n"
     ]
    }
   ],
   "source": [
    "transformation = ICP(source, target)"
   ]
  },
  {
   "cell_type": "code",
   "execution_count": 7,
   "metadata": {},
   "outputs": [
    {
     "name": "stdout",
     "output_type": "stream",
     "text": [
      "[Open3D WARNING] GLFW Error: WGL: Failed to make context current: The requested transformation operation is not supported. \n",
      "[Open3D WARNING] GLFW Error: WGL: Failed to make context current: The requested transformation operation is not supported. \n"
     ]
    }
   ],
   "source": [
    "draw_registration_result(source, target, transformation)"
   ]
  },
  {
   "cell_type": "code",
   "execution_count": null,
   "metadata": {},
   "outputs": [],
   "source": []
  }
 ],
 "metadata": {
  "kernelspec": {
   "display_name": "Python 3.7.12 ('opencv_py37')",
   "language": "python",
   "name": "python3"
  },
  "language_info": {
   "codemirror_mode": {
    "name": "ipython",
    "version": 3
   },
   "file_extension": ".py",
   "mimetype": "text/x-python",
   "name": "python",
   "nbconvert_exporter": "python",
   "pygments_lexer": "ipython3",
   "version": "3.7.12"
  },
  "orig_nbformat": 4,
  "vscode": {
   "interpreter": {
    "hash": "de569effcbacb0eab58fda70c694483a00e29dbce2f278034d98c997b8cf1047"
   }
  }
 },
 "nbformat": 4,
 "nbformat_minor": 2
}
